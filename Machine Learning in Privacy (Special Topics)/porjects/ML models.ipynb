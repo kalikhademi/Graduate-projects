{
 "cells": [
  {
   "cell_type": "code",
   "execution_count": 1,
   "metadata": {},
   "outputs": [],
   "source": [
    "import numpy as np\n",
    "import pandas as pd\n",
    "import matplotlib\n",
    "import os\n",
    "import math\n",
    "import sys\n",
    "from sklearn import preprocessing\n",
    "from sklearn.model_selection import train_test_split\n",
    "import warnings\n",
    "from sklearn.linear_model import LogisticRegression\n",
    "from sklearn.metrics import accuracy_score \n",
    "from sklearn.tree import DecisionTreeClassifier\n",
    "from sklearn.svm import SVC\n",
    "from sklearn.neighbors import KNeighborsClassifier\n",
    "from sklearn.naive_bayes import GaussianNB\n",
    "from sklearn.ensemble import RandomForestClassifier\n",
    "from sklearn.neural_network import MLPClassifier"
   ]
  },
  {
   "cell_type": "code",
   "execution_count": 2,
   "metadata": {},
   "outputs": [],
   "source": [
    "data = pd.read_csv(\"clean_compass.csv\")\n",
    "data['LengthOfStay'] = data[['c_jail_out', 'c_jail_in']].min(axis=1)\n"
   ]
  },
  {
   "cell_type": "code",
   "execution_count": 3,
   "metadata": {},
   "outputs": [],
   "source": [
    "X = data.drop(\"decile_score\",1)  #Feature Matrix\n",
    "y = data[\"decile_score\"]       #Target Variable\n",
    "\n",
    "X_trans = pd.get_dummies(X)\n",
    "X_train, X_test, y_train, y_test = train_test_split(X_trans, y, test_size=.3, random_state=42)\n"
   ]
  },
  {
   "cell_type": "code",
   "execution_count": 4,
   "metadata": {},
   "outputs": [],
   "source": [
    "names = [\"Nearest Neighbors\", \"SVM\",\"Logistic Regression\", \"Decision Tree\", \"Random Forest\", \"Neural Net\",\"Naive Bayes\"]\n",
    "\n",
    "clf_knn = KNeighborsClassifier(3)\n",
    "clf_svm = SVC(kernel=\"linear\", C=0.025)\n",
    "clf_lr = LogisticRegression(random_state=42, solver='lbfgs',multi_class='multinomial')\n",
    "clf_dt = DecisionTreeClassifier(max_depth=5)\n",
    "clf_RF = RandomForestClassifier(max_depth=5, n_estimators=10, max_features=1)\n",
    "clf_mlp = MLPClassifier(alpha=1, max_iter=1000)\n",
    "clf_nb = GaussianNB()\n",
    "\n",
    "        "
   ]
  },
  {
   "cell_type": "code",
   "execution_count": 5,
   "metadata": {},
   "outputs": [
    {
     "data": {
      "text/plain": [
       "[('Nearest Neighbors', 0.35941043083900226)]"
      ]
     },
     "execution_count": 5,
     "metadata": {},
     "output_type": "execute_result"
    }
   ],
   "source": [
    "#knn\n",
    "accuracy_list=[]\n",
    "clf_knn.fit(X_train,y_train)\n",
    "labels = clf_knn.predict(X_test)\n",
    "accuracy = accuracy_score(y_test,labels)\n",
    "accuracy_list.append((names[0],accuracy))\n",
    "\n",
    "\n",
    "accuracy_list"
   ]
  },
  {
   "cell_type": "code",
   "execution_count": null,
   "metadata": {},
   "outputs": [],
   "source": [
    "#svm\n",
    "accuracy_list=[]\n",
    "clf_svm.fit(X_train,y_train)\n",
    "labels = clf_svm.predict(X_test)\n",
    "accuracy = accuracy_score(y_test,labels)\n",
    "accuracy_list.append((names[0],accuracy))\n",
    "\n",
    "\n",
    "accuracy_list"
   ]
  },
  {
   "cell_type": "code",
   "execution_count": null,
   "metadata": {},
   "outputs": [],
   "source": [
    "#Logistic Regression\n",
    "accuracy_list=[]\n",
    "clf_lr.fit(X_train,y_train)\n",
    "labels = clf_lr.predict(X_test)\n",
    "accuracy = accuracy_score(y_test,labels)\n",
    "accuracy_list.append((names[0],accuracy))\n",
    "\n",
    "\n",
    "accuracy_list"
   ]
  },
  {
   "cell_type": "code",
   "execution_count": null,
   "metadata": {},
   "outputs": [],
   "source": [
    "#Decision Tree\n",
    "accuracy_list=[]\n",
    "clf_dt.fit(X_train,y_train)\n",
    "labels = clf_dt.predict(X_test)\n",
    "accuracy = accuracy_score(y_test,labels)\n",
    "accuracy_list.append((names[0],accuracy))\n",
    "\n",
    "\n",
    "accuracy_list"
   ]
  },
  {
   "cell_type": "code",
   "execution_count": null,
   "metadata": {},
   "outputs": [],
   "source": [
    "#knn\n",
    "accuracy_list=[]\n",
    "clf_RF.fit(X_train,y_train)\n",
    "labels = clf_RF.predict(X_test)\n",
    "accuracy = accuracy_score(y_test,labels)\n",
    "accuracy_list.append((names[0],accuracy))\n",
    "\n",
    "\n",
    "accuracy_list"
   ]
  },
  {
   "cell_type": "code",
   "execution_count": null,
   "metadata": {},
   "outputs": [],
   "source": [
    "#knn\n",
    "accuracy_list=[]\n",
    "clf_mlp.fit(X_train,y_train)\n",
    "labels = clf_mlp.predict(X_test)\n",
    "accuracy = accuracy_score(y_test,labels)\n",
    "accuracy_list.append((names[0],accuracy))\n",
    "\n",
    "\n",
    "accuracy_list"
   ]
  },
  {
   "cell_type": "code",
   "execution_count": null,
   "metadata": {},
   "outputs": [],
   "source": [
    "#knn\n",
    "accuracy_list=[]\n",
    "clf_nb.fit(X_train,y_train)\n",
    "labels = clf_nb.predict(X_test)\n",
    "accuracy = accuracy_score(y_test,labels)\n",
    "accuracy_list.append((names[0],accuracy))\n",
    "\n",
    "\n",
    "accuracy_list"
   ]
  }
 ],
 "metadata": {
  "kernelspec": {
   "display_name": "Python 3",
   "language": "python",
   "name": "python3"
  },
  "language_info": {
   "codemirror_mode": {
    "name": "ipython",
    "version": 3
   },
   "file_extension": ".py",
   "mimetype": "text/x-python",
   "name": "python",
   "nbconvert_exporter": "python",
   "pygments_lexer": "ipython3",
   "version": "3.7.4"
  }
 },
 "nbformat": 4,
 "nbformat_minor": 2
}
