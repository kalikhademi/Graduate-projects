{
 "cells": [
  {
   "cell_type": "code",
   "execution_count": 20,
   "metadata": {},
   "outputs": [],
   "source": [
    "import numpy as np\n",
    "import pandas as pd\n",
    "import matplotlib\n",
    "import os\n",
    "import math\n",
    "import sys\n",
    "from sklearn import preprocessing\n",
    "from sklearn.model_selection import StratifiedKFold\n",
    "import warnings\n",
    "from sklearn.linear_model import LogisticRegression\n",
    "from sklearn.metrics import accuracy_score \n",
    "from sklearn.tree import DecisionTreeClassifier\n",
    "from sklearn.svm import SVC\n",
    "from sklearn.neighbors import KNeighborsClassifier\n",
    "from sklearn.naive_bayes import GaussianNB\n"
   ]
  },
  {
   "cell_type": "code",
   "execution_count": 21,
   "metadata": {},
   "outputs": [
    {
     "data": {
      "text/plain": [
       "(11757, 13)"
      ]
     },
     "execution_count": 21,
     "metadata": {},
     "output_type": "execute_result"
    }
   ],
   "source": [
    "data = pd.read_csv(\"clean_compass.csv\")\n",
    "data['LengthOfStay'] = data[['c_jail_out', 'c_jail_in']].min(axis=1)\n",
    "data.shape"
   ]
  },
  {
   "cell_type": "code",
   "execution_count": null,
   "metadata": {},
   "outputs": [],
   "source": [
    "X = data.drop(\"decile_score\",1).to_numpy()  #Feature Matrix\n",
    "y = data[\"decile_score\"].to_numpy()        #Target Variable\n",
    "\n",
    "cat_idx = [1,2,3,4,5]\n",
    "enc = preprocessing.OneHotEncoder(handle_unknown='ignore')\n",
    "enc.fit(X[:,cat_idx])\n",
    "\n",
    "skf = StratifiedKFold(n_splits=10)\n",
    "train_index, test_index = skf.split(X, y)\n",
    "X_train, X_test = X[train_index], X[test_index]\n",
    "y_train, y_test = y[train_index], y[test_index]\n",
    "\n",
    "#NB\n",
    "clf_lr = LogisticRegression(random_state=42, solver='lbfgs',multi_class='multinomial').fit(X_train, y_train)\n",
    "labels = clf_lr.predict(X_test)\n",
    "accuracy_lr = accuracy_score(labels, y_test)\n",
    "#KNN\n",
    "clf_lr = LogisticRegression(random_state=42, solver='lbfgs',multi_class='multinomial').fit(X_train, y_train)\n",
    "labels = clf_lr.predict(X_test)\n",
    "accuracy_lr = accuracy_score(labels, y_test)\n",
    "#SVM\n",
    "clf_lr = LogisticRegression(random_state=42, solver='lbfgs',multi_class='multinomial').fit(X_train, y_train)\n",
    "labels = clf_lr.predict(X_test)\n",
    "accuracy_lr = accuracy_score(labels, y_test)\n",
    "#LR\n",
    "clf_lr = LogisticRegression(random_state=42, solver='lbfgs',multi_class='multinomial').fit(X_train, y_train)\n",
    "labels = clf_lr.predict(X_test)\n",
    "accuracy_lr = accuracy_score(labels, y_test)\n",
    "\n",
    "#MLP\n",
    "clf_lr = LogisticRegression(random_state=42, solver='lbfgs',multi_class='multinomial').fit(X_train, y_train)\n",
    "labels = clf_lr.predict(X_test)\n",
    "accuracy_lr = accuracy_score(labels, y_test)\n",
    "#DT\n",
    "clf_lr = LogisticRegression(random_state=42, solver='lbfgs',multi_class='multinomial').fit(X_train, y_train)\n",
    "labels = clf_lr.predict(X_test)\n",
    "accuracy_lr = accuracy_score(labels, y_test)\n",
    "#RF\n",
    "clf_lr = LogisticRegression(random_state=42, solver='lbfgs',multi_class='multinomial').fit(X_train, y_train)\n",
    "labels = clf_lr.predict(X_test)\n",
    "accuracy_lr = accuracy_score(labels, y_test)"
   ]
  },
  {
   "cell_type": "code",
   "execution_count": null,
   "metadata": {},
   "outputs": [],
   "source": []
  },
  {
   "cell_type": "code",
   "execution_count": null,
   "metadata": {},
   "outputs": [],
   "source": []
  }
 ],
 "metadata": {
  "kernelspec": {
   "display_name": "Python 3",
   "language": "python",
   "name": "python3"
  },
  "language_info": {
   "codemirror_mode": {
    "name": "ipython",
    "version": 3
   },
   "file_extension": ".py",
   "mimetype": "text/x-python",
   "name": "python",
   "nbconvert_exporter": "python",
   "pygments_lexer": "ipython3",
   "version": "3.7.4"
  }
 },
 "nbformat": 4,
 "nbformat_minor": 2
}
