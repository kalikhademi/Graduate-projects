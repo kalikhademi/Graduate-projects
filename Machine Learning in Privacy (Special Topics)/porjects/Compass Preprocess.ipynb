{
 "cells": [
  {
   "cell_type": "code",
   "execution_count": 17,
   "metadata": {},
   "outputs": [],
   "source": [
    "\n",
    "import warnings\n",
    "warnings.filterwarnings('ignore')\n",
    "import numpy as np\n",
    "import pandas as pd\n",
    "import matplotlib as plt\n",
    "import os \n",
    "import math"
   ]
  },
  {
   "cell_type": "code",
   "execution_count": 18,
   "metadata": {},
   "outputs": [],
   "source": [
    "data = pd.read_csv(\"/Users/kianamac/Dropbox (UFL)/courses/Fall 2019/Machine learning in privacy/porjects/compas-scores_cleaned.csv\")"
   ]
  },
  {
   "cell_type": "code",
   "execution_count": 19,
   "metadata": {},
   "outputs": [
    {
     "data": {
      "text/plain": [
       "(11757, 47)"
      ]
     },
     "execution_count": 19,
     "metadata": {},
     "output_type": "execute_result"
    }
   ],
   "source": [
    "data.shape"
   ]
  },
  {
   "cell_type": "code",
   "execution_count": 20,
   "metadata": {},
   "outputs": [
    {
     "data": {
      "text/plain": [
       "id                             0\n",
       "name                           0\n",
       "first                          0\n",
       "last                           0\n",
       "compas_screening_date          0\n",
       "sex                            0\n",
       "dob                            0\n",
       "age                            0\n",
       "age_cat                        0\n",
       "race                           0\n",
       "juv_fel_count                  0\n",
       "decile_score                   0\n",
       "juv_misd_count                 0\n",
       "juv_other_count                0\n",
       "priors_count                   0\n",
       "days_b_screening_arrest     1180\n",
       "c_jail_in                   1180\n",
       "c_jail_out                  1180\n",
       "c_case_number                742\n",
       "c_offense_date              2600\n",
       "c_arrest_date               9899\n",
       "c_days_from_compas           742\n",
       "c_charge_degree                0\n",
       "c_charge_desc                749\n",
       "is_recid                       0\n",
       "num_r_cases                11757\n",
       "r_case_number               8054\n",
       "r_charge_degree                0\n",
       "r_days_from_arrest          9297\n",
       "r_offense_date              8054\n",
       "r_charge_desc               8114\n",
       "r_jail_in                   9297\n",
       "r_jail_out                  9297\n",
       "is_violent_recid               0\n",
       "num_vr_cases               11757\n",
       "vr_case_number             10875\n",
       "vr_charge_degree           10875\n",
       "vr_offense_date            10875\n",
       "vr_charge_desc             10875\n",
       "v_type_of_assessment           0\n",
       "v_decile_score                 0\n",
       "v_score_text                   5\n",
       "v_screening_date               0\n",
       "type_of_assessment             0\n",
       "decile_score.1                 0\n",
       "score_text                    15\n",
       "screening_date                 0\n",
       "dtype: int64"
      ]
     },
     "execution_count": 20,
     "metadata": {},
     "output_type": "execute_result"
    }
   ],
   "source": [
    "data.isna().sum()"
   ]
  },
  {
   "cell_type": "code",
   "execution_count": 21,
   "metadata": {},
   "outputs": [],
   "source": [
    " data = data[[ 'age', 'c_charge_degree', 'race', 'age_cat', 'score_text', 'sex', 'priors_count','days_b_screening_arrest', 'decile_score', 'is_recid', 'c_jail_in', 'c_jail_out']]"
   ]
  },
  {
   "cell_type": "code",
   "execution_count": 22,
   "metadata": {},
   "outputs": [
    {
     "data": {
      "text/plain": [
       "age                           0\n",
       "c_charge_degree               0\n",
       "race                          0\n",
       "age_cat                       0\n",
       "score_text                   15\n",
       "sex                           0\n",
       "priors_count                  0\n",
       "days_b_screening_arrest    1180\n",
       "decile_score                  0\n",
       "is_recid                      0\n",
       "c_jail_in                  1180\n",
       "c_jail_out                 1180\n",
       "dtype: int64"
      ]
     },
     "execution_count": 22,
     "metadata": {},
     "output_type": "execute_result"
    }
   ],
   "source": [
    "data.isna().sum()\n"
   ]
  },
  {
   "cell_type": "code",
   "execution_count": 23,
   "metadata": {},
   "outputs": [],
   "source": [
    "data.score_text = data.score_text.fillna(data.score_text.value_counts().idxmax())"
   ]
  },
  {
   "cell_type": "code",
   "execution_count": 24,
   "metadata": {},
   "outputs": [
    {
     "data": {
      "text/plain": [
       "age                           0\n",
       "c_charge_degree               0\n",
       "race                          0\n",
       "age_cat                       0\n",
       "score_text                    0\n",
       "sex                           0\n",
       "priors_count                  0\n",
       "days_b_screening_arrest    1180\n",
       "decile_score                  0\n",
       "is_recid                      0\n",
       "c_jail_in                  1180\n",
       "c_jail_out                 1180\n",
       "dtype: int64"
      ]
     },
     "execution_count": 24,
     "metadata": {},
     "output_type": "execute_result"
    }
   ],
   "source": [
    "data.isna().sum()"
   ]
  },
  {
   "cell_type": "code",
   "execution_count": 25,
   "metadata": {},
   "outputs": [],
   "source": [
    "data.days_b_screening_arrest  = data.days_b_screening_arrest .fillna(data.days_b_screening_arrest .value_counts().idxmax())\n",
    "data.c_jail_in = data.c_jail_in.fillna(data.c_jail_in.value_counts().idxmax())\n",
    "data.c_jail_out = data.c_jail_out.fillna(data.c_jail_out.value_counts().idxmax())"
   ]
  },
  {
   "cell_type": "code",
   "execution_count": 26,
   "metadata": {},
   "outputs": [],
   "source": [
    "data.to_csv(\"clean_compass.csv\", index=False)"
   ]
  },
  {
   "cell_type": "code",
   "execution_count": null,
   "metadata": {},
   "outputs": [],
   "source": []
  }
 ],
 "metadata": {
  "kernelspec": {
   "display_name": "Python 3",
   "language": "python",
   "name": "python3"
  },
  "language_info": {
   "codemirror_mode": {
    "name": "ipython",
    "version": 3
   },
   "file_extension": ".py",
   "mimetype": "text/x-python",
   "name": "python",
   "nbconvert_exporter": "python",
   "pygments_lexer": "ipython3",
   "version": "3.7.4"
  }
 },
 "nbformat": 4,
 "nbformat_minor": 2
}
