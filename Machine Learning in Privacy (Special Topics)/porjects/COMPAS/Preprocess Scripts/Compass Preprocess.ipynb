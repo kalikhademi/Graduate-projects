{
 "cells": [
  {
   "cell_type": "code",
   "execution_count": 1,
   "metadata": {},
   "outputs": [],
   "source": [
    "\n",
    "import warnings\n",
    "warnings.filterwarnings('ignore')\n",
    "import numpy as np\n",
    "import pandas as pd\n",
    "import matplotlib as plt\n",
    "import os \n",
    "import math"
   ]
  },
  {
   "cell_type": "code",
   "execution_count": 2,
   "metadata": {},
   "outputs": [],
   "source": [
    "data = pd.read_csv(\"/Users/kianamac/Dropbox (UFL)/courses/Fall 2019/Machine learning in privacy/porjects/compas-scores_cleaned.csv\")"
   ]
  },
  {
   "cell_type": "code",
   "execution_count": 3,
   "metadata": {},
   "outputs": [
    {
     "data": {
      "text/plain": "(11757, 47)"
     },
     "execution_count": 3,
     "metadata": {},
     "output_type": "execute_result"
    }
   ],
   "source": [
    "data.shape"
   ]
  },
  {
   "cell_type": "code",
   "execution_count": 4,
   "metadata": {},
   "outputs": [
    {
     "data": {
      "text/plain": "id                             0\nname                           0\nfirst                          0\nlast                           0\ncompas_screening_date          0\nsex                            0\ndob                            0\nage                            0\nage_cat                        0\nrace                           0\njuv_fel_count                  0\ndecile_score                   0\njuv_misd_count                 0\njuv_other_count                0\npriors_count                   0\ndays_b_screening_arrest     1180\nc_jail_in                   1180\nc_jail_out                  1180\nc_case_number                742\nc_offense_date              2600\nc_arrest_date               9899\nc_days_from_compas           742\nc_charge_degree                0\nc_charge_desc                749\nis_recid                       0\nnum_r_cases                11757\nr_case_number               8054\nr_charge_degree                0\nr_days_from_arrest          9297\nr_offense_date              8054\nr_charge_desc               8114\nr_jail_in                   9297\nr_jail_out                  9297\nis_violent_recid               0\nnum_vr_cases               11757\nvr_case_number             10875\nvr_charge_degree           10875\nvr_offense_date            10875\nvr_charge_desc             10875\nv_type_of_assessment           0\nv_decile_score                 0\nv_score_text                   5\nv_screening_date               0\ntype_of_assessment             0\ndecile_score.1                 0\nscore_text                    15\nscreening_date                 0\ndtype: int64"
     },
     "execution_count": 4,
     "metadata": {},
     "output_type": "execute_result"
    }
   ],
   "source": [
    "data.isna().sum()"
   ]
  },
  {
   "cell_type": "code",
   "execution_count": 5,
   "metadata": {},
   "outputs": [],
   "source": [
    " data = data[[ 'age', 'c_charge_degree', 'race', 'age_cat', 'score_text', 'sex', 'priors_count','days_b_screening_arrest', 'decile_score', 'is_recid', 'c_jail_in', 'c_jail_out']]"
   ]
  },
  {
   "cell_type": "code",
   "execution_count": 6,
   "metadata": {},
   "outputs": [
    {
     "data": {
      "text/plain": "age                           0\nc_charge_degree               0\nrace                          0\nage_cat                       0\nscore_text                   15\nsex                           0\npriors_count                  0\ndays_b_screening_arrest    1180\ndecile_score                  0\nis_recid                      0\nc_jail_in                  1180\nc_jail_out                 1180\ndtype: int64"
     },
     "execution_count": 6,
     "metadata": {},
     "output_type": "execute_result"
    }
   ],
   "source": [
    "data.isna().sum()\n"
   ]
  },
  {
   "cell_type": "code",
   "execution_count": 7,
   "metadata": {},
   "outputs": [],
   "source": [
    "data.score_text = data.score_text.fillna(data.score_text.value_counts().idxmax())"
   ]
  },
  {
   "cell_type": "code",
   "execution_count": 8,
   "metadata": {},
   "outputs": [
    {
     "data": {
      "text/plain": "age                           0\nc_charge_degree               0\nrace                          0\nage_cat                       0\nscore_text                    0\nsex                           0\npriors_count                  0\ndays_b_screening_arrest    1180\ndecile_score                  0\nis_recid                      0\nc_jail_in                  1180\nc_jail_out                 1180\ndtype: int64"
     },
     "execution_count": 8,
     "metadata": {},
     "output_type": "execute_result"
    }
   ],
   "source": [
    "data.isna().sum()"
   ]
  },
  {
   "cell_type": "code",
   "execution_count": 14,
   "metadata": {},
   "outputs": [
    {
     "data": {
      "text/html": "<div>\n<style scoped>\n    .dataframe tbody tr th:only-of-type {\n        vertical-align: middle;\n    }\n\n    .dataframe tbody tr th {\n        vertical-align: top;\n    }\n\n    .dataframe thead th {\n        text-align: right;\n    }\n</style>\n<table border=\"1\" class=\"dataframe\">\n  <thead>\n    <tr style=\"text-align: right;\">\n      <th></th>\n      <th>age</th>\n      <th>c_charge_degree</th>\n      <th>race</th>\n      <th>age_cat</th>\n      <th>score_text</th>\n      <th>sex</th>\n      <th>priors_count</th>\n      <th>days_b_screening_arrest</th>\n      <th>decile_score</th>\n      <th>is_recid</th>\n      <th>c_jail_in</th>\n      <th>c_jail_out</th>\n      <th>new_in</th>\n      <th>new_out</th>\n      <th>LengthOfStay</th>\n    </tr>\n  </thead>\n  <tbody>\n    <tr>\n      <td>0</td>\n      <td>69</td>\n      <td>F</td>\n      <td>Other</td>\n      <td>Greater than 45</td>\n      <td>Low</td>\n      <td>Male</td>\n      <td>0</td>\n      <td>-1.0</td>\n      <td>1</td>\n      <td>0</td>\n      <td>2013-08-13 06:03:42</td>\n      <td>2013-08-14 05:41:20</td>\n      <td>2013-08-13</td>\n      <td>2013-08-14</td>\n      <td>1</td>\n    </tr>\n    <tr>\n      <td>1</td>\n      <td>31</td>\n      <td>O</td>\n      <td>Caucasian</td>\n      <td>25 - 45</td>\n      <td>Medium</td>\n      <td>Male</td>\n      <td>0</td>\n      <td>-1.0</td>\n      <td>5</td>\n      <td>-1</td>\n      <td>2014-11-24 11:54:01</td>\n      <td>2013-09-12 10:31:00</td>\n      <td>2014-11-24</td>\n      <td>2013-09-12</td>\n      <td>438</td>\n    </tr>\n    <tr>\n      <td>2</td>\n      <td>34</td>\n      <td>F</td>\n      <td>African-American</td>\n      <td>25 - 45</td>\n      <td>Low</td>\n      <td>Male</td>\n      <td>0</td>\n      <td>-1.0</td>\n      <td>3</td>\n      <td>1</td>\n      <td>2013-01-26 03:45:27</td>\n      <td>2013-02-05 05:36:53</td>\n      <td>2013-01-26</td>\n      <td>2013-02-05</td>\n      <td>10</td>\n    </tr>\n    <tr>\n      <td>3</td>\n      <td>24</td>\n      <td>F</td>\n      <td>African-American</td>\n      <td>Less than 25</td>\n      <td>Low</td>\n      <td>Male</td>\n      <td>4</td>\n      <td>-1.0</td>\n      <td>4</td>\n      <td>1</td>\n      <td>2013-04-13 04:58:34</td>\n      <td>2013-04-14 07:02:04</td>\n      <td>2013-04-13</td>\n      <td>2013-04-14</td>\n      <td>1</td>\n    </tr>\n    <tr>\n      <td>4</td>\n      <td>23</td>\n      <td>F</td>\n      <td>African-American</td>\n      <td>Less than 25</td>\n      <td>High</td>\n      <td>Male</td>\n      <td>1</td>\n      <td>-1.0</td>\n      <td>8</td>\n      <td>0</td>\n      <td>2014-11-24 11:54:01</td>\n      <td>2013-09-12 10:31:00</td>\n      <td>2014-11-24</td>\n      <td>2013-09-12</td>\n      <td>438</td>\n    </tr>\n  </tbody>\n</table>\n</div>",
      "text/plain": "   age c_charge_degree              race          age_cat score_text   sex  \\\n0   69               F             Other  Greater than 45        Low  Male   \n1   31               O         Caucasian          25 - 45     Medium  Male   \n2   34               F  African-American          25 - 45        Low  Male   \n3   24               F  African-American     Less than 25        Low  Male   \n4   23               F  African-American     Less than 25       High  Male   \n\n   priors_count  days_b_screening_arrest  decile_score  is_recid  \\\n0             0                     -1.0             1         0   \n1             0                     -1.0             5        -1   \n2             0                     -1.0             3         1   \n3             4                     -1.0             4         1   \n4             1                     -1.0             8         0   \n\n             c_jail_in           c_jail_out      new_in     new_out  \\\n0  2013-08-13 06:03:42  2013-08-14 05:41:20  2013-08-13  2013-08-14   \n1  2014-11-24 11:54:01  2013-09-12 10:31:00  2014-11-24  2013-09-12   \n2  2013-01-26 03:45:27  2013-02-05 05:36:53  2013-01-26  2013-02-05   \n3  2013-04-13 04:58:34  2013-04-14 07:02:04  2013-04-13  2013-04-14   \n4  2014-11-24 11:54:01  2013-09-12 10:31:00  2014-11-24  2013-09-12   \n\n   LengthOfStay  \n0             1  \n1           438  \n2            10  \n3             1  \n4           438  "
     },
     "execution_count": 14,
     "metadata": {},
     "output_type": "execute_result"
    }
   ],
   "source": [
    "data.days_b_screening_arrest  = data.days_b_screening_arrest .fillna(data.days_b_screening_arrest .value_counts().idxmax())\n",
    "data.c_jail_in = data.c_jail_in.fillna(data.c_jail_in.value_counts().idxmax())\n",
    "data.c_jail_out = data.c_jail_out.fillna(data.c_jail_out.value_counts().idxmax())\n",
    "data['new_in'] = pd.to_datetime(data['c_jail_in']).dt.date\n",
    "data['new_out'] = pd.to_datetime(data['c_jail_out']).dt.date\n",
    "data['LengthOfStay'] = np.absolute((data['new_out'] - data['new_in']).dt.days)\n",
    "data.head()"
   ]
  },
  {
   "cell_type": "code",
   "execution_count": 18,
   "metadata": {},
   "outputs": [],
   "source": [
    "data.to_csv(\"clean_compass.csv\", index=False)"
   ]
  },
  {
   "cell_type": "code",
   "execution_count": null,
   "metadata": {},
   "outputs": [],
   "source": []
  },
  {
   "cell_type": "code",
   "execution_count": null,
   "metadata": {},
   "outputs": [],
   "source": []
  }
 ],
 "metadata": {
  "kernelspec": {
   "display_name": "Python 3",
   "language": "python",
   "name": "python3"
  },
  "language_info": {
   "codemirror_mode": {
    "name": "ipython",
    "version": 3
   },
   "file_extension": ".py",
   "mimetype": "text/x-python",
   "name": "python",
   "nbconvert_exporter": "python",
   "pygments_lexer": "ipython3",
   "version": "3.7.4"
  }
 },
 "nbformat": 4,
 "nbformat_minor": 2
}