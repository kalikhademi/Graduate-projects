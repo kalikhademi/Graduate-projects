{
 "cells": [
  {
   "cell_type": "code",
   "execution_count": 5,
   "metadata": {},
   "outputs": [],
   "source": [
    "import numpy as np\n",
    "import pandas as pd\n",
    "import matplotlib\n",
    "import os\n",
    "import math\n",
    "import sys\n",
    "from sklearn import preprocessing\n",
    "from sklearn.model_selection import train_test_split\n",
    "import warnings\n",
    "from sklearn.linear_model import LogisticRegression\n",
    "from sklearn.metrics import accuracy_score \n",
    "from sklearn.tree import DecisionTreeClassifier\n",
    "from sklearn.svm import SVC\n",
    "from sklearn.neighbors import KNeighborsClassifier\n",
    "from sklearn.naive_bayes import GaussianNB\n",
    "from sklearn.ensemble import RandomForestClassifier\n",
    "from sklearn.neural_network import MLPClassifier"
   ]
  },
  {
   "cell_type": "code",
   "execution_count": 6,
   "metadata": {},
   "outputs": [],
   "source": [
    "data = pd.read_csv(\"clean_compass.csv\")\n",
    "data['LengthOfStay'] = data[['c_jail_out', 'c_jail_in']].min(axis=1)\n"
   ]
  },
  {
   "cell_type": "code",
   "execution_count": 7,
   "metadata": {},
   "outputs": [],
   "source": [
    "X = data.drop(\"decile_score\",1)  #Feature Matrix\n",
    "y = data[\"decile_score\"]       #Target Variable\n",
    "\n",
    "X_trans = pd.get_dummies(X)\n",
    "X_train, X_test, y_train, y_test = train_test_split(X_trans, y, test_size=.3, random_state=42)\n"
   ]
  },
  {
   "cell_type": "code",
   "execution_count": 8,
   "metadata": {},
   "outputs": [],
   "source": [
    "names = [\"Nearest Neighbors\", \"SVM\",\"Logistic Regression\", \"Decision Tree\", \"Random Forest\", \"Neural Net\",\"Naive Bayes\"]\n",
    "\n",
    "clf_knn = KNeighborsClassifier(3)\n",
    "clf_svm = SVC(kernel=\"linear\", C=0.025)\n",
    "clf_lr = LogisticRegression(random_state=42, solver='lbfgs',multi_class='multinomial')\n",
    "clf_dt = DecisionTreeClassifier(max_depth=5)\n",
    "clf_RF = RandomForestClassifier(max_depth=5, n_estimators=10, max_features=1)\n",
    "clf_mlp = MLPClassifier(alpha=1, max_iter=1000)\n",
    "clf_nb = GaussianNB()\n",
    "\n",
    "        "
   ]
  },
  {
   "cell_type": "code",
   "execution_count": 9,
   "metadata": {},
   "outputs": [
    {
     "data": {
      "text/plain": "[('Nearest Neighbors', 0.35941043083900226)]"
     },
     "execution_count": 9,
     "metadata": {},
     "output_type": "execute_result"
    }
   ],
   "source": [
    "#knn\n",
    "accuracy_list=[]\n",
    "clf_knn.fit(X_train,y_train)\n",
    "labels = clf_knn.predict(X_test)\n",
    "accuracy = accuracy_score(y_test,labels)\n",
    "accuracy_list.append((names[0],accuracy))\n",
    "\n",
    "\n",
    "accuracy_list"
   ]
  },
  {
   "cell_type": "code",
   "execution_count": null,
   "metadata": {},
   "outputs": [],
   "source": [
    "#svm\n",
    "\n",
    "clf_svm.fit(X_train,y_train)\n",
    "labels = clf_svm.predict(X_test)\n",
    "accuracy = accuracy_score(y_test,labels)\n",
    "accuracy_list.append((names[1],accuracy))\n",
    "\n",
    "\n",
    "accuracy_list"
   ]
  },
  {
   "cell_type": "code",
   "execution_count": 5,
   "metadata": {},
   "outputs": [
    {
     "name": "stderr",
     "output_type": "stream",
     "text": [
      "/usr/local/lib/python3.7/site-packages/sklearn/linear_model/logistic.py:947: ConvergenceWarning: lbfgs failed to converge. Increase the number of iterations.\n",
      "  \"of iterations.\", ConvergenceWarning)\n"
     ]
    },
    {
     "data": {
      "text/plain": [
       "[('Nearest Neighbors', 0.43253968253968256)]"
      ]
     },
     "execution_count": 5,
     "metadata": {},
     "output_type": "execute_result"
    }
   ],
   "source": [
    "#Logistic Regression\n",
    "\n",
    "clf_lr.fit(X_train,y_train)\n",
    "labels = clf_lr.predict(X_test)\n",
    "accuracy = accuracy_score(y_test,labels)\n",
    "accuracy_list.append((names[2],accuracy))\n",
    "\n",
    "\n",
    "accuracy_list"
   ]
  },
  {
   "cell_type": "code",
   "execution_count": 6,
   "metadata": {},
   "outputs": [
    {
     "data": {
      "text/plain": [
       "[('Nearest Neighbors', 0.45153061224489793)]"
      ]
     },
     "execution_count": 6,
     "metadata": {},
     "output_type": "execute_result"
    }
   ],
   "source": [
    "#Decision Tree\n",
    "\n",
    "clf_dt.fit(X_train,y_train)\n",
    "labels = clf_dt.predict(X_test)\n",
    "accuracy = accuracy_score(y_test,labels)\n",
    "accuracy_list.append((names[3],accuracy))\n",
    "\n",
    "\n",
    "accuracy_list"
   ]
  },
  {
   "cell_type": "code",
   "execution_count": null,
   "metadata": {},
   "outputs": [],
   "source": [
    "#knn\n",
    "\n",
    "clf_RF.fit(X_train,y_train)\n",
    "labels = clf_RF.predict(X_test)\n",
    "accuracy = accuracy_score(y_test,labels)\n",
    "accuracy_list.append((names[4],accuracy))\n",
    "\n",
    "\n",
    "accuracy_list"
   ]
  },
  {
   "cell_type": "code",
   "execution_count": 8,
   "metadata": {},
   "outputs": [
    {
     "data": {
      "text/plain": [
       "[('Nearest Neighbors', 0.4492630385487528)]"
      ]
     },
     "execution_count": 8,
     "metadata": {},
     "output_type": "execute_result"
    }
   ],
   "source": [
    "#knn\n",
    "\n",
    "clf_mlp.fit(X_train,y_train)\n",
    "labels = clf_mlp.predict(X_test)\n",
    "accuracy = accuracy_score(y_test,labels)\n",
    "accuracy_list.append((names[5],accuracy))\n",
    "\n",
    "\n",
    "accuracy_list"
   ]
  },
  {
   "cell_type": "code",
   "execution_count": 9,
   "metadata": {},
   "outputs": [
    {
     "data": {
      "text/plain": [
       "[('Nearest Neighbors', 0.16014739229024944)]"
      ]
     },
     "execution_count": 9,
     "metadata": {},
     "output_type": "execute_result"
    }
   ],
   "source": [
    "#knn\n",
    "\n",
    "clf_nb.fit(X_train,y_train)\n",
    "labels = clf_nb.predict(X_test)\n",
    "accuracy = accuracy_score(y_test,labels)\n",
    "accuracy_list.append((names[6],accuracy))\n",
    "\n",
    "\n",
    "accuracy_list"
   ]
  },
  {
   "cell_type": "code",
   "execution_count": null,
   "metadata": {},
   "outputs": [],
   "source": []
  }
 ],
 "metadata": {
  "kernelspec": {
   "display_name": "Python 3",
   "language": "python",
   "name": "python3"
  },
  "language_info": {
   "codemirror_mode": {
    "name": "ipython",
    "version": 3
   },
   "file_extension": ".py",
   "mimetype": "text/x-python",
   "name": "python",
   "nbconvert_exporter": "python",
   "pygments_lexer": "ipython3",
   "version": "3.7.4"
  }
 },
 "nbformat": 4,
 "nbformat_minor": 2
}