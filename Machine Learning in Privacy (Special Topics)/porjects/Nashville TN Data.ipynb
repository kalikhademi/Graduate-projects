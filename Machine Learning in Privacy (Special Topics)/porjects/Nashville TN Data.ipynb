{
 "cells": [
  {
   "cell_type": "markdown",
   "metadata": {},
   "source": [
    "# Nashville TN Open Dataset Traffic stops"
   ]
  },
  {
   "cell_type": "code",
   "execution_count": 73,
   "metadata": {},
   "outputs": [],
   "source": [
    "import numpy as np\n",
    "import pandas as pd\n",
    "import matplotlib as plt\n",
    "import os \n",
    "import math\n",
    "\n",
    "%matplotlib inline"
   ]
  },
  {
   "cell_type": "code",
   "execution_count": 74,
   "metadata": {},
   "outputs": [
    {
     "name": "stderr",
     "output_type": "stream",
     "text": [
      "/usr/local/lib/python3.7/site-packages/IPython/core/interactiveshell.py:3058: DtypeWarning: Columns (6,8,15,16,17,22,23,24,25,29,30,31,32,33,35,36,37,38,40,41) have mixed types. Specify dtype option on import or set low_memory=False.\n",
      "  interactivity=interactivity, compiler=compiler, result=result)\n"
     ]
    }
   ],
   "source": [
    "data = pd.read_csv(\"/Users/kianamac/Dropbox (UFL)/courses/Fall 2019/Machine learning in privacy/porjects/tn_nashville_2019_08_13.csv\")"
   ]
  },
  {
   "cell_type": "code",
   "execution_count": 75,
   "metadata": {},
   "outputs": [
    {
     "name": "stdout",
     "output_type": "stream",
     "text": [
      "the data shape is: (3092351, 42)\n"
     ]
    }
   ],
   "source": [
    "print(\"the data shape is:\", data.shape)"
   ]
  },
  {
   "cell_type": "code",
   "execution_count": 76,
   "metadata": {},
   "outputs": [],
   "source": [
    " data = data.drop([ 'raw_row_number', 'location','reporting_area','notes','search_basis','contraband_found','contraband_drugs','contraband_weapons','raw_misd_state_citation_issued','precinct','raw_written_warning_issued'], axis=1)"
   ]
  },
  {
   "cell_type": "markdown",
   "metadata": {},
   "source": [
    "So my methodology is to use Mode to replace the Nan values. "
   ]
  },
  {
   "cell_type": "code",
   "execution_count": 77,
   "metadata": {},
   "outputs": [],
   "source": [
    "data.time = data.time.fillna(data.time.value_counts().idxmax())"
   ]
  },
  {
   "cell_type": "code",
   "execution_count": 78,
   "metadata": {},
   "outputs": [],
   "source": [
    "data.lat = data.lat.fillna(data.lat.value_counts().idxmax())\n",
    "data.lng = data.lng.fillna(data.lng.value_counts().idxmax())"
   ]
  },
  {
   "cell_type": "code",
   "execution_count": 79,
   "metadata": {},
   "outputs": [],
   "source": [
    "data.zone = data.zone.fillna(data.zone.value_counts().idxmax())\n",
    "data.subject_age = data.subject_age.fillna(data.subject_age.value_counts().idxmax())\n",
    "data.subject_race = data.subject_race.fillna(data.subject_race.value_counts().idxmax())\n",
    "data.subject_sex = data.subject_sex.fillna(data.subject_sex.value_counts().idxmax())\n",
    "data.subject_age = data.subject_age.fillna(data.subject_age.value_counts().idxmax())\n",
    "data.officer_id_hash = data.officer_id_hash.fillna(data.officer_id_hash.value_counts().idxmax())"
   ]
  },
  {
   "cell_type": "code",
   "execution_count": 80,
   "metadata": {},
   "outputs": [],
   "source": [
    "data.violation = data.violation.fillna(data.violation.value_counts().idxmax())\n",
    "data.arrest_made = data.arrest_made.fillna(data.arrest_made.value_counts().idxmax())\n",
    "data.citation_issued = data.citation_issued.fillna(data.citation_issued.value_counts().idxmax())\n",
    "data.warning_issued = data.warning_issued.fillna(data.warning_issued.value_counts().idxmax())\n",
    "data.outcome = data.outcome.fillna(data.outcome.value_counts().idxmax())\n",
    "data.frisk_performed = data.frisk_performed.fillna(data.frisk_performed.value_counts().idxmax())\n",
    "data.search_conducted = data.search_conducted.fillna(data.search_conducted.value_counts().idxmax())"
   ]
  },
  {
   "cell_type": "code",
   "execution_count": 81,
   "metadata": {},
   "outputs": [],
   "source": [
    "data.search_person = data.search_person.fillna(data.search_person.value_counts().idxmax())\n",
    "data.search_vehicle = data.search_vehicle.fillna(data.search_vehicle.value_counts().idxmax())\n",
    "data.reason_for_stop = data.reason_for_stop.fillna(data.reason_for_stop.value_counts().idxmax())\n",
    "data.vehicle_registration_state = data.vehicle_registration_state.fillna(data.vehicle_registration_state.value_counts().idxmax())\n",
    "data.raw_verbal_warning_issued = data.raw_verbal_warning_issued.fillna(data.raw_verbal_warning_issued.value_counts().idxmax())\n",
    "data.raw_traffic_citation_issued = data.raw_traffic_citation_issued.fillna(data.raw_traffic_citation_issued.value_counts().idxmax())\n",
    "data.raw_verbal_warning_issued = data.raw_verbal_warning_issued.fillna(data.raw_verbal_warning_issued.value_counts().idxmax())\n",
    "data.raw_suspect_ethnicity = data.raw_suspect_ethnicity.fillna(data.raw_suspect_ethnicity.value_counts().idxmax())\n",
    "data.raw_driver_searched = data.raw_driver_searched.fillna(data.raw_driver_searched.value_counts().idxmax())\n",
    "data.raw_passenger_searched = data.raw_passenger_searched.fillna(data.raw_passenger_searched.value_counts().idxmax())\n",
    "data.raw_search_consent = data.raw_search_consent.fillna(data.raw_search_consent.value_counts().idxmax())\n",
    "data.raw_search_arrest = data.raw_search_arrest.fillna(data.raw_search_arrest.value_counts().idxmax())\n",
    "data.raw_search_warrant = data.raw_search_warrant.fillna(data.raw_search_warrant.value_counts().idxmax())\n",
    "data.raw_search_inventory = data.raw_search_inventory.fillna(data.raw_search_inventory.value_counts().idxmax())\n",
    "data.raw_search_plain_view = data.raw_search_plain_view.fillna(data.raw_search_plain_view.value_counts().idxmax())"
   ]
  },
  {
   "cell_type": "code",
   "execution_count": 82,
   "metadata": {},
   "outputs": [
    {
     "data": {
      "text/plain": [
       "(3092351, 31)"
      ]
     },
     "execution_count": 82,
     "metadata": {},
     "output_type": "execute_result"
    }
   ],
   "source": [
    "data.shape"
   ]
  },
  {
   "cell_type": "code",
   "execution_count": 83,
   "metadata": {},
   "outputs": [
    {
     "data": {
      "text/plain": [
       "date                           0\n",
       "time                           0\n",
       "lat                            0\n",
       "lng                            0\n",
       "zone                           0\n",
       "subject_age                    0\n",
       "subject_race                   0\n",
       "subject_sex                    0\n",
       "officer_id_hash                0\n",
       "type                           0\n",
       "violation                      0\n",
       "arrest_made                    0\n",
       "citation_issued                0\n",
       "warning_issued                 0\n",
       "outcome                        0\n",
       "frisk_performed                0\n",
       "search_conducted               0\n",
       "search_person                  0\n",
       "search_vehicle                 0\n",
       "reason_for_stop                0\n",
       "vehicle_registration_state     0\n",
       "raw_verbal_warning_issued      0\n",
       "raw_traffic_citation_issued    0\n",
       "raw_suspect_ethnicity          0\n",
       "raw_driver_searched            0\n",
       "raw_passenger_searched         0\n",
       "raw_search_consent             0\n",
       "raw_search_arrest              0\n",
       "raw_search_warrant             0\n",
       "raw_search_inventory           0\n",
       "raw_search_plain_view          0\n",
       "dtype: int64"
      ]
     },
     "execution_count": 83,
     "metadata": {},
     "output_type": "execute_result"
    }
   ],
   "source": [
    "data.isna().sum()"
   ]
  },
  {
   "cell_type": "code",
   "execution_count": 84,
   "metadata": {},
   "outputs": [],
   "source": [
    "data.to_csv(\"clean_nashville_data.csv\", index=False)"
   ]
  },
  {
   "cell_type": "code",
   "execution_count": null,
   "metadata": {},
   "outputs": [],
   "source": []
  }
 ],
 "metadata": {
  "kernelspec": {
   "display_name": "Python 3",
   "language": "python",
   "name": "python3"
  },
  "language_info": {
   "codemirror_mode": {
    "name": "ipython",
    "version": 3
   },
   "file_extension": ".py",
   "mimetype": "text/x-python",
   "name": "python",
   "nbconvert_exporter": "python",
   "pygments_lexer": "ipython3",
   "version": "3.7.4"
  }
 },
 "nbformat": 4,
 "nbformat_minor": 2
}
